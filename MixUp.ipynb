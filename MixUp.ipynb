{
 "cells": [
  {
   "cell_type": "code",
   "execution_count": 1,
   "metadata": {
    "collapsed": true,
    "ExecuteTime": {
     "start_time": "2023-05-13T21:23:00.586709Z",
     "end_time": "2023-05-13T21:23:00.588945Z"
    }
   },
   "outputs": [],
   "source": [
    "import os\n",
    "import random\n",
    "import numpy as np\n",
    "from PIL import Image"
   ]
  },
  {
   "cell_type": "code",
   "execution_count": 2,
   "outputs": [],
   "source": [
    "folders = ['./trashnet-resized/paper', './trashnet-resized/cardboard',\n",
    "           './trashnet-resized/glass', './trashnet-resized/metal',\n",
    "           './trashnet-resized/plastic', './trashnet-resized/trash']\n",
    "\n",
    "# Create a dictionary to map the class names to directories\n",
    "class_dirs = {'paper': './mixup/paper', 'cardboard': './mixup/cardboard',\n",
    "              'glass': './mixup/glass', 'metal': './mixup/metal',\n",
    "              'plastic': './mixup/plastic', 'trash': './mixup/trash'}\n",
    "\n",
    "# Runned once to add Mixed images to other images.\n",
    "# class_dirs = {'paper': './trashnet-resized/paper', 'cardboard': './trashnet-resized/cardboard', 'glass': './trashnet-resized/glass', 'metal': './trashnet-resized/metal', 'plastic': './trashnet-resized/plastic', 'trash': './trashnet-resized/trash'}"
   ],
   "metadata": {
    "collapsed": false,
    "ExecuteTime": {
     "start_time": "2023-05-13T21:23:00.589889Z",
     "end_time": "2023-05-13T21:23:00.594368Z"
    }
   }
  },
  {
   "cell_type": "code",
   "execution_count": 3,
   "outputs": [],
   "source": [
    "def MixUp(images, labels):\n",
    "    mixed_images = []\n",
    "    mixed_labels = []\n",
    "\n",
    "    label_dict = {label: [] for label in set(labels)}\n",
    "    for i, label in enumerate(labels):\n",
    "        label_dict[label].append(i)\n",
    "\n",
    "    for i in range(int(len(images)/2)):\n",
    "        # Choose a random label and two images with that label\n",
    "        label = random.choice(list(label_dict.keys()))\n",
    "        j, k = random.sample(label_dict[label], 2)\n",
    "\n",
    "        # Generate a random mixing weight\n",
    "        mix_weight = random.uniform(0.2, 0.8)\n",
    "\n",
    "        # Mix the images using the given weight\n",
    "        mixed_image = ((mix_weight * images[j]) + ((1 - mix_weight) * images[k])).astype(np.uint8)\n",
    "\n",
    "        # Add the mixed image to the mixed_images list\n",
    "        mixed_images.append(mixed_image)\n",
    "        mixed_labels.append(labels[j])\n",
    "\n",
    "    return mixed_images, mixed_labels"
   ],
   "metadata": {
    "collapsed": false,
    "ExecuteTime": {
     "start_time": "2023-05-13T21:23:00.594466Z",
     "end_time": "2023-05-13T21:23:00.598575Z"
    }
   }
  },
  {
   "cell_type": "code",
   "execution_count": 4,
   "outputs": [],
   "source": [
    "# Create a MixUp directory for each class\n",
    "for class_dir in class_dirs.values():\n",
    "    os.makedirs(class_dir, exist_ok=True)\n",
    "\n",
    "# Loop over each folder and mix the images from the same class\n",
    "for folder in folders:\n",
    "    label = os.path.basename(folder)\n",
    "    images = []\n",
    "    for filename in os.listdir(folder):\n",
    "        filepath = os.path.join(folder, filename)\n",
    "        image = np.array(Image.open(filepath))\n",
    "        images.append(image)\n",
    "    labels = [label] * len(images)\n",
    "    mixed_images, mixed_labels = MixUp(images, labels)\n",
    "    for i, mixed_image in enumerate(mixed_images):\n",
    "        class_dir = class_dirs[mixed_labels[i]]\n",
    "        filename = f\"{i}.jpg\"\n",
    "        filepath = os.path.join(class_dir, filename)\n",
    "        mixed_image = Image.fromarray(mixed_image)\n",
    "        mixed_image.save(filepath)"
   ],
   "metadata": {
    "collapsed": false,
    "ExecuteTime": {
     "start_time": "2023-05-13T21:23:00.598294Z",
     "end_time": "2023-05-13T21:23:11.256680Z"
    }
   }
  },
  {
   "cell_type": "code",
   "execution_count": null,
   "outputs": [],
   "source": [],
   "metadata": {
    "collapsed": false
   }
  }
 ],
 "metadata": {
  "kernelspec": {
   "display_name": "Python 3",
   "language": "python",
   "name": "python3"
  },
  "language_info": {
   "codemirror_mode": {
    "name": "ipython",
    "version": 2
   },
   "file_extension": ".py",
   "mimetype": "text/x-python",
   "name": "python",
   "nbconvert_exporter": "python",
   "pygments_lexer": "ipython2",
   "version": "2.7.6"
  }
 },
 "nbformat": 4,
 "nbformat_minor": 0
}
